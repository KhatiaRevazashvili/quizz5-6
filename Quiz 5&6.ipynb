{
 "cells": [
  {
   "cell_type": "code",
   "execution_count": 25,
   "id": "8c9d64ac-4e94-48ed-a42f-ae2a17fe8ce0",
   "metadata": {},
   "outputs": [],
   "source": [
    "import pandas as pd\n",
    "from sklearn.model_selection import train_test_split\n",
    "from sklearn.linear_model import LinearRegression\n",
    "from sklearn.tree import DecisionTreeRegressor\n",
    "from sklearn.metrics import mean_squared_error, r2_score\n",
    "from sklearn.linear_model import LogisticRegression\n",
    "from sklearn.metrics import accuracy_score, confusion_matrix, classification_report\n",
    "from sklearn.tree import DecisionTreeClassifier\n",
    "from tabulate import tabulate"
   ]
  },
  {
   "cell_type": "code",
   "execution_count": null,
   "id": "6ab2e88b-ef44-4a01-bc9f-91f0e998689f",
   "metadata": {},
   "outputs": [
    {
     "data": {
      "text/html": [
       "<div>\n",
       "<style scoped>\n",
       "    .dataframe tbody tr th:only-of-type {\n",
       "        vertical-align: middle;\n",
       "    }\n",
       "\n",
       "    .dataframe tbody tr th {\n",
       "        vertical-align: top;\n",
       "    }\n",
       "\n",
       "    .dataframe thead th {\n",
       "        text-align: right;\n",
       "    }\n",
       "</style>\n",
       "<table border=\"1\" class=\"dataframe\">\n",
       "  <thead>\n",
       "    <tr style=\"text-align: right;\">\n",
       "      <th></th>\n",
       "      <th>RANK</th>\n",
       "      <th>NAME</th>\n",
       "      <th>TEAM</th>\n",
       "      <th>POS</th>\n",
       "      <th>AGE</th>\n",
       "      <th>GP</th>\n",
       "      <th>MPG</th>\n",
       "      <th>USG%</th>\n",
       "      <th>TO%</th>\n",
       "      <th>FTA</th>\n",
       "      <th>...</th>\n",
       "      <th>APG</th>\n",
       "      <th>SPG</th>\n",
       "      <th>BPG</th>\n",
       "      <th>TPG</th>\n",
       "      <th>P+R</th>\n",
       "      <th>P+A</th>\n",
       "      <th>P+R+A</th>\n",
       "      <th>VI</th>\n",
       "      <th>ORtg</th>\n",
       "      <th>DRtg</th>\n",
       "    </tr>\n",
       "  </thead>\n",
       "  <tbody>\n",
       "    <tr>\n",
       "      <th>0</th>\n",
       "      <td>1</td>\n",
       "      <td>Joel Embiid</td>\n",
       "      <td>Phi</td>\n",
       "      <td>C</td>\n",
       "      <td>30.2</td>\n",
       "      <td>6</td>\n",
       "      <td>41.4</td>\n",
       "      <td>35.7</td>\n",
       "      <td>15.8</td>\n",
       "      <td>78</td>\n",
       "      <td>...</td>\n",
       "      <td>5.7</td>\n",
       "      <td>1.2</td>\n",
       "      <td>1.5</td>\n",
       "      <td>4.2</td>\n",
       "      <td>43.8</td>\n",
       "      <td>38.7</td>\n",
       "      <td>49.5</td>\n",
       "      <td>12.2</td>\n",
       "      <td>117.1</td>\n",
       "      <td>108.0</td>\n",
       "    </tr>\n",
       "    <tr>\n",
       "      <th>1</th>\n",
       "      <td>2</td>\n",
       "      <td>Jalen Brunson</td>\n",
       "      <td>Nyk</td>\n",
       "      <td>G</td>\n",
       "      <td>27.8</td>\n",
       "      <td>13</td>\n",
       "      <td>39.8</td>\n",
       "      <td>36.4</td>\n",
       "      <td>9.3</td>\n",
       "      <td>120</td>\n",
       "      <td>...</td>\n",
       "      <td>7.5</td>\n",
       "      <td>0.8</td>\n",
       "      <td>0.2</td>\n",
       "      <td>2.7</td>\n",
       "      <td>35.7</td>\n",
       "      <td>39.8</td>\n",
       "      <td>43.2</td>\n",
       "      <td>9.3</td>\n",
       "      <td>114.8</td>\n",
       "      <td>114.7</td>\n",
       "    </tr>\n",
       "    <tr>\n",
       "      <th>2</th>\n",
       "      <td>3</td>\n",
       "      <td>Damian Lillard</td>\n",
       "      <td>Mil</td>\n",
       "      <td>G</td>\n",
       "      <td>33.9</td>\n",
       "      <td>4</td>\n",
       "      <td>39.1</td>\n",
       "      <td>31.4</td>\n",
       "      <td>10.0</td>\n",
       "      <td>38</td>\n",
       "      <td>...</td>\n",
       "      <td>5.0</td>\n",
       "      <td>1.0</td>\n",
       "      <td>0.0</td>\n",
       "      <td>2.3</td>\n",
       "      <td>34.5</td>\n",
       "      <td>36.3</td>\n",
       "      <td>39.5</td>\n",
       "      <td>8.2</td>\n",
       "      <td>127.6</td>\n",
       "      <td>115.7</td>\n",
       "    </tr>\n",
       "    <tr>\n",
       "      <th>3</th>\n",
       "      <td>4</td>\n",
       "      <td>Shai Gilgeous-Alexander</td>\n",
       "      <td>Okc</td>\n",
       "      <td>G</td>\n",
       "      <td>25.9</td>\n",
       "      <td>10</td>\n",
       "      <td>39.9</td>\n",
       "      <td>32.3</td>\n",
       "      <td>8.9</td>\n",
       "      <td>81</td>\n",
       "      <td>...</td>\n",
       "      <td>6.4</td>\n",
       "      <td>1.3</td>\n",
       "      <td>1.7</td>\n",
       "      <td>2.2</td>\n",
       "      <td>37.4</td>\n",
       "      <td>36.6</td>\n",
       "      <td>43.8</td>\n",
       "      <td>11.2</td>\n",
       "      <td>118.3</td>\n",
       "      <td>106.9</td>\n",
       "    </tr>\n",
       "    <tr>\n",
       "      <th>4</th>\n",
       "      <td>5</td>\n",
       "      <td>Tyrese Maxey</td>\n",
       "      <td>Phi</td>\n",
       "      <td>G</td>\n",
       "      <td>23.6</td>\n",
       "      <td>6</td>\n",
       "      <td>44.6</td>\n",
       "      <td>28.1</td>\n",
       "      <td>8.6</td>\n",
       "      <td>28</td>\n",
       "      <td>...</td>\n",
       "      <td>6.8</td>\n",
       "      <td>0.8</td>\n",
       "      <td>0.3</td>\n",
       "      <td>2.2</td>\n",
       "      <td>35.0</td>\n",
       "      <td>36.7</td>\n",
       "      <td>41.8</td>\n",
       "      <td>9.1</td>\n",
       "      <td>120.9</td>\n",
       "      <td>113.3</td>\n",
       "    </tr>\n",
       "  </tbody>\n",
       "</table>\n",
       "<p>5 rows × 29 columns</p>\n",
       "</div>"
      ],
      "text/plain": [
       "   RANK                     NAME TEAM POS   AGE  GP   MPG  USG%   TO%  FTA  \\\n",
       "0     1              Joel Embiid  Phi   C  30.2   6  41.4  35.7  15.8   78   \n",
       "1     2            Jalen Brunson  Nyk   G  27.8  13  39.8  36.4   9.3  120   \n",
       "2     3           Damian Lillard  Mil   G  33.9   4  39.1  31.4  10.0   38   \n",
       "3     4  Shai Gilgeous-Alexander  Okc   G  25.9  10  39.9  32.3   8.9   81   \n",
       "4     5             Tyrese Maxey  Phi   G  23.6   6  44.6  28.1   8.6   28   \n",
       "\n",
       "   ...  APG  SPG  BPG  TPG   P+R   P+A  P+R+A    VI   ORtg   DRtg  \n",
       "0  ...  5.7  1.2  1.5  4.2  43.8  38.7   49.5  12.2  117.1  108.0  \n",
       "1  ...  7.5  0.8  0.2  2.7  35.7  39.8   43.2   9.3  114.8  114.7  \n",
       "2  ...  5.0  1.0  0.0  2.3  34.5  36.3   39.5   8.2  127.6  115.7  \n",
       "3  ...  6.4  1.3  1.7  2.2  37.4  36.6   43.8  11.2  118.3  106.9  \n",
       "4  ...  6.8  0.8  0.3  2.2  35.0  36.7   41.8   9.1  120.9  113.3  \n",
       "\n",
       "[5 rows x 29 columns]"
      ]
     },
     "execution_count": 26,
     "metadata": {},
     "output_type": "execute_result"
    }
   ],
   "source": [
    "earthquakes_path = 'path_to_your/Earthquakes_database.xls'\n",
    "earthquakes_df = pd.read_excel(earthquakes_path)\n",
    "\n",
    "earthquakes_df.head()\n"
   ]
  },
  {
   "cell_type": "code",
   "execution_count": null,
   "id": "8a20439c-807a-442a-b1ab-11ebf411d0e7",
   "metadata": {},
   "outputs": [
    {
     "data": {
      "text/plain": [
       "Index(['RANK', 'NAME', 'TEAM', 'POS', 'AGE', 'GP', 'MPG', 'USG%', 'TO%', 'FTA',\n",
       "       'FT%', '2PA', '2P%', '3PA', '3P%', 'eFG%', 'TS%', 'PPG', 'RPG', 'APG',\n",
       "       'SPG', 'BPG', 'TPG', 'P+R', 'P+A', 'P+R+A', 'VI', 'ORtg', 'DRtg'],\n",
       "      dtype='object')"
      ]
     },
     "execution_count": 27,
     "metadata": {},
     "output_type": "execute_result"
    }
   ],
   "source": [
    "earthquakes_df.info()\n",
    "\n",
    "earthquakes_df.describe()\n"
   ]
  },
  {
   "cell_type": "code",
   "execution_count": 3,
   "id": "ce67f957-57a9-4618-9ac7-5cb8fce01b0c",
   "metadata": {},
   "outputs": [
    {
     "ename": "NameError",
     "evalue": "name 'earthquakes_df' is not defined",
     "output_type": "error",
     "traceback": [
      "\u001b[1;31m---------------------------------------------------------------------------\u001b[0m",
      "\u001b[1;31mNameError\u001b[0m                                 Traceback (most recent call last)",
      "Cell \u001b[1;32mIn[3], line 1\u001b[0m\n\u001b[1;32m----> 1\u001b[0m earthquakes_df \u001b[38;5;241m=\u001b[39m \u001b[43mearthquakes_df\u001b[49m\u001b[38;5;241m.\u001b[39mdropna()\n",
      "\u001b[1;31mNameError\u001b[0m: name 'earthquakes_df' is not defined"
     ]
    }
   ],
   "source": [
    "earthquakes_df = earthquakes_df.dropna()\n",
    "\n",
    "\n",
    "\n"
   ]
  },
  {
   "cell_type": "code",
   "execution_count": 1,
   "id": "79880338-38e6-4347-98d3-f256d7b55b07",
   "metadata": {},
   "outputs": [
    {
     "ename": "NameError",
     "evalue": "name 'earthquakes_df' is not defined",
     "output_type": "error",
     "traceback": [
      "\u001b[1;31m---------------------------------------------------------------------------\u001b[0m",
      "\u001b[1;31mNameError\u001b[0m                                 Traceback (most recent call last)",
      "Cell \u001b[1;32mIn[1], line 1\u001b[0m\n\u001b[1;32m----> 1\u001b[0m X \u001b[38;5;241m=\u001b[39m \u001b[43mearthquakes_df\u001b[49m[[\u001b[38;5;124m'\u001b[39m\u001b[38;5;124mFeature1\u001b[39m\u001b[38;5;124m'\u001b[39m, \u001b[38;5;124m'\u001b[39m\u001b[38;5;124mFeature2\u001b[39m\u001b[38;5;124m'\u001b[39m, \u001b[38;5;124m'\u001b[39m\u001b[38;5;124mFeature3\u001b[39m\u001b[38;5;124m'\u001b[39m]]  \n\u001b[0;32m      2\u001b[0m y \u001b[38;5;241m=\u001b[39m earthquakes_df[\u001b[38;5;124m'\u001b[39m\u001b[38;5;124mTarget\u001b[39m\u001b[38;5;124m'\u001b[39m]  \n\u001b[0;32m      4\u001b[0m X_train, X_test, y_train, y_test \u001b[38;5;241m=\u001b[39m train_test_split(X, y, test_size\u001b[38;5;241m=\u001b[39m\u001b[38;5;241m0.2\u001b[39m, random_state\u001b[38;5;241m=\u001b[39m\u001b[38;5;241m42\u001b[39m)\n",
      "\u001b[1;31mNameError\u001b[0m: name 'earthquakes_df' is not defined"
     ]
    }
   ],
   "source": [
    "X = earthquakes_df[['Feature1', 'Feature2', 'Feature3']]  \n",
    "y = earthquakes_df['Target']  \n",
    "\n",
    "X_train, X_test, y_train, y_test = train_test_split(X, y, test_size=0.2, random_state=42)\n",
    "\n",
    "lin_reg = LinearRegression()\n",
    "lin_reg.fit(X_train, y_train)\n",
    "\n",
    "y_pred = lin_reg.predict(X_test)\n",
    "\n",
    "mse = mean_squared_error(y_test, y_pred)\n",
    "r2 = r2_score(y_test, y_pred)\n",
    "\n",
    "print(f'Mean Squared Error: {mse}')\n",
    "print(f'R-squared: {r2}')\n"
   ]
  },
  {
   "cell_type": "code",
   "execution_count": 30,
   "id": "12c3269d-76fc-4b02-af27-1a3d32db565f",
   "metadata": {},
   "outputs": [
    {
     "data": {
      "text/plain": [
       "(7.1470025839793285, 0.8750442974855335)"
      ]
     },
     "execution_count": 30,
     "metadata": {},
     "output_type": "execute_result"
    }
   ],
   "source": []
  },
  {
   "cell_type": "code",
   "execution_count": 2,
   "id": "4e4cbd54-89db-49a2-b4d9-87f9fb1b6fe2",
   "metadata": {},
   "outputs": [
    {
     "ename": "NameError",
     "evalue": "name 'earthquakes_df' is not defined",
     "output_type": "error",
     "traceback": [
      "\u001b[1;31m---------------------------------------------------------------------------\u001b[0m",
      "\u001b[1;31mNameError\u001b[0m                                 Traceback (most recent call last)",
      "Cell \u001b[1;32mIn[2], line 1\u001b[0m\n\u001b[1;32m----> 1\u001b[0m X \u001b[38;5;241m=\u001b[39m \u001b[43mearthquakes_df\u001b[49m[[\u001b[38;5;124m'\u001b[39m\u001b[38;5;124mFeature1\u001b[39m\u001b[38;5;124m'\u001b[39m, \u001b[38;5;124m'\u001b[39m\u001b[38;5;124mFeature2\u001b[39m\u001b[38;5;124m'\u001b[39m, \u001b[38;5;124m'\u001b[39m\u001b[38;5;124mFeature3\u001b[39m\u001b[38;5;124m'\u001b[39m]]  \n\u001b[0;32m      2\u001b[0m y \u001b[38;5;241m=\u001b[39m (earthquakes_df[\u001b[38;5;124m'\u001b[39m\u001b[38;5;124mTarget\u001b[39m\u001b[38;5;124m'\u001b[39m] \u001b[38;5;241m>\u001b[39m threshold)\u001b[38;5;241m.\u001b[39mastype(\u001b[38;5;28mint\u001b[39m)  \n\u001b[0;32m      4\u001b[0m X_train, X_test, y_train, y_test \u001b[38;5;241m=\u001b[39m train_test_split(X, y, test_size\u001b[38;5;241m=\u001b[39m\u001b[38;5;241m0.2\u001b[39m, random_state\u001b[38;5;241m=\u001b[39m\u001b[38;5;241m42\u001b[39m)\n",
      "\u001b[1;31mNameError\u001b[0m: name 'earthquakes_df' is not defined"
     ]
    }
   ],
   "source": [
    "X = earthquakes_df[['Feature1', 'Feature2', 'Feature3']]  \n",
    "y = (earthquakes_df['Target'] > threshold).astype(int)  \n",
    "\n",
    "X_train, X_test, y_train, y_test = train_test_split(X, y, test_size=0.2, random_state=42)\n",
    "\n",
    "tree_classifier = DecisionTreeClassifier(random_state=42)\n",
    "tree_classifier.fit(X_train, y_train)\n",
    "\n",
    "y_pred = tree_classifier.predict(X_test)\n",
    "\n",
    "accuracy = accuracy_score(y_test, y_pred)\n",
    "conf_matrix = confusion_matrix(y_test, y_pred)\n",
    "class_report = classification_report(y_test, y_pred)\n",
    "\n",
    "print(f'Accuracy: {accuracy}')\n",
    "print(f'Confusion Matrix:\\n{conf_matrix}')\n",
    "print(f'Classification Report:\\n{class_report}')\n"
   ]
  },
  {
   "cell_type": "code",
   "execution_count": null,
   "id": "082b2b27-b0df-42ea-ad64-11aa2c66bb8e",
   "metadata": {},
   "outputs": [],
   "source": []
  }
 ],
 "metadata": {
  "kernelspec": {
   "display_name": "Python 3 (ipykernel)",
   "language": "python",
   "name": "python3"
  },
  "language_info": {
   "codemirror_mode": {
    "name": "ipython",
    "version": 3
   },
   "file_extension": ".py",
   "mimetype": "text/x-python",
   "name": "python",
   "nbconvert_exporter": "python",
   "pygments_lexer": "ipython3",
   "version": "3.12.4"
  }
 },
 "nbformat": 4,
 "nbformat_minor": 5
}
